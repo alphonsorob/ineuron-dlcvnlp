{
 "cells": [
  {
   "cell_type": "markdown",
   "metadata": {},
   "source": [
    "#1.1 **Area of triangle**"
   ]
  },
  {
   "cell_type": "code",
   "execution_count": 59,
   "metadata": {},
   "outputs": [],
   "source": [
    "#main class for triangles with set_sies method\n",
    "class Triangle:\n",
    "    def set_sides(self, sa, sb, sc):\n",
    "        self.sa = sa\n",
    "        self.sb = sb\n",
    "        self.sc = sc\n",
    "    def __str__(self):\n",
    "        return 'Triangle with sides {}, {} and {}'.format(self.sa, self.sb, self.sc)\n",
    "    \n",
    "#subclass for my triangle that initializes using the set_sides method from super class and calculates the area\n",
    "class MyTriangle(Triangle):\n",
    "    def __init__(self, *args):\n",
    "        super(MyTriangle, self).set_sides(*args)\n",
    "    def area(self):\n",
    "        semi = 0.5*(self.sa+self.sb+self.sc)\n",
    "        return (semi*(semi-self.sa)*(semi-self.sb)*(semi-self.sc))**0.5\n",
    "    def __str__(self):\n",
    "        return super(MyTriangle, self).__str__()+' and area equal to {}.'.format(self.area())"
   ]
  },
  {
   "cell_type": "code",
   "execution_count": 73,
   "metadata": {},
   "outputs": [],
   "source": [
    "trikon = MyTriangle(3, 4, 5)"
   ]
  },
  {
   "cell_type": "code",
   "execution_count": 74,
   "metadata": {},
   "outputs": [
    {
     "name": "stdout",
     "output_type": "stream",
     "text": [
      "Triangle with sides 3, 4 and 5 and area equal to 6.0.\n"
     ]
    }
   ],
   "source": [
    "print(trikon)"
   ]
  },
  {
   "cell_type": "code",
   "execution_count": 75,
   "metadata": {},
   "outputs": [
    {
     "data": {
      "text/plain": [
       "6.0"
      ]
     },
     "execution_count": 75,
     "metadata": {},
     "output_type": "execute_result"
    }
   ],
   "source": [
    "trikon.area()"
   ]
  },
  {
   "cell_type": "markdown",
   "metadata": {},
   "source": [
    "#1.2 **Filter Long Words**"
   ]
  },
  {
   "cell_type": "code",
   "execution_count": 76,
   "metadata": {},
   "outputs": [],
   "source": [
    "def filter_long_words(lst, n):\n",
    "    return [w for w in lst if len(w)>n]"
   ]
  },
  {
   "cell_type": "code",
   "execution_count": 77,
   "metadata": {},
   "outputs": [],
   "source": [
    "l = ['my', 'name', 'is', 'robin', 'trakroo']"
   ]
  },
  {
   "cell_type": "code",
   "execution_count": 80,
   "metadata": {},
   "outputs": [
    {
     "data": {
      "text/plain": [
       "['name', 'robin', 'trakroo']"
      ]
     },
     "execution_count": 80,
     "metadata": {},
     "output_type": "execute_result"
    }
   ],
   "source": [
    "filter_long_words(l, 3)"
   ]
  },
  {
   "cell_type": "markdown",
   "metadata": {},
   "source": [
    "#2.1 **My map**"
   ]
  },
  {
   "cell_type": "code",
   "execution_count": 111,
   "metadata": {},
   "outputs": [],
   "source": [
    "def lengthsOf(lst):\n",
    "    if (type(lst)==list and all(type(elem) == str for elem in lst)):\n",
    "        return [len(w) for w in lst]\n",
    "    else:\n",
    "        print('Error: Please enter a list of words as argument')"
   ]
  },
  {
   "cell_type": "code",
   "execution_count": 109,
   "metadata": {},
   "outputs": [
    {
     "data": {
      "text/plain": [
       "[1, 1, 1, 1]"
      ]
     },
     "execution_count": 109,
     "metadata": {},
     "output_type": "execute_result"
    }
   ],
   "source": [
    "lengthsOf(['a', 'b', 'c', 'd'])"
   ]
  },
  {
   "cell_type": "markdown",
   "metadata": {},
   "source": [
    "#2.2 **Vowel check**"
   ]
  },
  {
   "cell_type": "code",
   "execution_count": 95,
   "metadata": {},
   "outputs": [],
   "source": [
    "def isVowel(ch):\n",
    "    if (type(ch) == str and len(ch) == 1):\n",
    "        return (ch in ['a', 'e', 'i', 'o', 'u'])\n",
    "    else:\n",
    "        print('Error: Please enter a single character as argument')"
   ]
  },
  {
   "cell_type": "code",
   "execution_count": 110,
   "metadata": {},
   "outputs": [
    {
     "data": {
      "text/plain": [
       "True"
      ]
     },
     "execution_count": 110,
     "metadata": {},
     "output_type": "execute_result"
    }
   ],
   "source": [
    "isVowel('i')"
   ]
  }
 ],
 "metadata": {
  "kernelspec": {
   "display_name": "Python 3",
   "language": "python",
   "name": "python3"
  },
  "language_info": {
   "codemirror_mode": {
    "name": "ipython",
    "version": 3
   },
   "file_extension": ".py",
   "mimetype": "text/x-python",
   "name": "python",
   "nbconvert_exporter": "python",
   "pygments_lexer": "ipython3",
   "version": "3.8.3"
  }
 },
 "nbformat": 4,
 "nbformat_minor": 4
}
