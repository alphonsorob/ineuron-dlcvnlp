{
 "cells": [
  {
   "cell_type": "code",
   "execution_count": 8,
   "metadata": {},
   "outputs": [],
   "source": [
    "import tensorflow as tf\n",
    "import pandas as pd\n",
    "from sklearn.preprocessing import MinMaxScaler"
   ]
  },
  {
   "cell_type": "markdown",
   "metadata": {},
   "source": [
    "**Preprocessing**"
   ]
  },
  {
   "cell_type": "code",
   "execution_count": 9,
   "metadata": {},
   "outputs": [],
   "source": [
    "(x_train, y_train), (x_test, y_test) = tf.keras.datasets.boston_housing.load_data(\n",
    "    path=\"boston_housing.npz\", test_split=0.2, seed=113\n",
    ")"
   ]
  },
  {
   "cell_type": "code",
   "execution_count": 10,
   "metadata": {},
   "outputs": [],
   "source": [
    "train_df = pd.DataFrame(x_train)\n",
    "train_df['y'] = y_train\n",
    "\n",
    "test_df = pd.DataFrame(x_test)\n",
    "test_df['y'] = y_test"
   ]
  },
  {
   "cell_type": "code",
   "execution_count": 11,
   "metadata": {},
   "outputs": [
    {
     "data": {
      "text/html": [
       "<div>\n",
       "<style scoped>\n",
       "    .dataframe tbody tr th:only-of-type {\n",
       "        vertical-align: middle;\n",
       "    }\n",
       "\n",
       "    .dataframe tbody tr th {\n",
       "        vertical-align: top;\n",
       "    }\n",
       "\n",
       "    .dataframe thead th {\n",
       "        text-align: right;\n",
       "    }\n",
       "</style>\n",
       "<table border=\"1\" class=\"dataframe\">\n",
       "  <thead>\n",
       "    <tr style=\"text-align: right;\">\n",
       "      <th></th>\n",
       "      <th>0</th>\n",
       "      <th>1</th>\n",
       "      <th>2</th>\n",
       "      <th>3</th>\n",
       "      <th>4</th>\n",
       "      <th>5</th>\n",
       "      <th>6</th>\n",
       "      <th>7</th>\n",
       "      <th>8</th>\n",
       "      <th>9</th>\n",
       "      <th>10</th>\n",
       "      <th>11</th>\n",
       "      <th>12</th>\n",
       "      <th>y</th>\n",
       "    </tr>\n",
       "  </thead>\n",
       "  <tbody>\n",
       "    <tr>\n",
       "      <th>0</th>\n",
       "      <td>1.23247</td>\n",
       "      <td>0.0</td>\n",
       "      <td>8.14</td>\n",
       "      <td>0.0</td>\n",
       "      <td>0.538</td>\n",
       "      <td>6.142</td>\n",
       "      <td>91.7</td>\n",
       "      <td>3.9769</td>\n",
       "      <td>4.0</td>\n",
       "      <td>307.0</td>\n",
       "      <td>21.0</td>\n",
       "      <td>396.90</td>\n",
       "      <td>18.72</td>\n",
       "      <td>15.2</td>\n",
       "    </tr>\n",
       "    <tr>\n",
       "      <th>1</th>\n",
       "      <td>0.02177</td>\n",
       "      <td>82.5</td>\n",
       "      <td>2.03</td>\n",
       "      <td>0.0</td>\n",
       "      <td>0.415</td>\n",
       "      <td>7.610</td>\n",
       "      <td>15.7</td>\n",
       "      <td>6.2700</td>\n",
       "      <td>2.0</td>\n",
       "      <td>348.0</td>\n",
       "      <td>14.7</td>\n",
       "      <td>395.38</td>\n",
       "      <td>3.11</td>\n",
       "      <td>42.3</td>\n",
       "    </tr>\n",
       "    <tr>\n",
       "      <th>2</th>\n",
       "      <td>4.89822</td>\n",
       "      <td>0.0</td>\n",
       "      <td>18.10</td>\n",
       "      <td>0.0</td>\n",
       "      <td>0.631</td>\n",
       "      <td>4.970</td>\n",
       "      <td>100.0</td>\n",
       "      <td>1.3325</td>\n",
       "      <td>24.0</td>\n",
       "      <td>666.0</td>\n",
       "      <td>20.2</td>\n",
       "      <td>375.52</td>\n",
       "      <td>3.26</td>\n",
       "      <td>50.0</td>\n",
       "    </tr>\n",
       "    <tr>\n",
       "      <th>3</th>\n",
       "      <td>0.03961</td>\n",
       "      <td>0.0</td>\n",
       "      <td>5.19</td>\n",
       "      <td>0.0</td>\n",
       "      <td>0.515</td>\n",
       "      <td>6.037</td>\n",
       "      <td>34.5</td>\n",
       "      <td>5.9853</td>\n",
       "      <td>5.0</td>\n",
       "      <td>224.0</td>\n",
       "      <td>20.2</td>\n",
       "      <td>396.90</td>\n",
       "      <td>8.01</td>\n",
       "      <td>21.1</td>\n",
       "    </tr>\n",
       "    <tr>\n",
       "      <th>4</th>\n",
       "      <td>3.69311</td>\n",
       "      <td>0.0</td>\n",
       "      <td>18.10</td>\n",
       "      <td>0.0</td>\n",
       "      <td>0.713</td>\n",
       "      <td>6.376</td>\n",
       "      <td>88.4</td>\n",
       "      <td>2.5671</td>\n",
       "      <td>24.0</td>\n",
       "      <td>666.0</td>\n",
       "      <td>20.2</td>\n",
       "      <td>391.43</td>\n",
       "      <td>14.65</td>\n",
       "      <td>17.7</td>\n",
       "    </tr>\n",
       "  </tbody>\n",
       "</table>\n",
       "</div>"
      ],
      "text/plain": [
       "         0     1      2    3      4      5      6       7     8      9    10  \\\n",
       "0  1.23247   0.0   8.14  0.0  0.538  6.142   91.7  3.9769   4.0  307.0  21.0   \n",
       "1  0.02177  82.5   2.03  0.0  0.415  7.610   15.7  6.2700   2.0  348.0  14.7   \n",
       "2  4.89822   0.0  18.10  0.0  0.631  4.970  100.0  1.3325  24.0  666.0  20.2   \n",
       "3  0.03961   0.0   5.19  0.0  0.515  6.037   34.5  5.9853   5.0  224.0  20.2   \n",
       "4  3.69311   0.0  18.10  0.0  0.713  6.376   88.4  2.5671  24.0  666.0  20.2   \n",
       "\n",
       "       11     12     y  \n",
       "0  396.90  18.72  15.2  \n",
       "1  395.38   3.11  42.3  \n",
       "2  375.52   3.26  50.0  \n",
       "3  396.90   8.01  21.1  \n",
       "4  391.43  14.65  17.7  "
      ]
     },
     "execution_count": 11,
     "metadata": {},
     "output_type": "execute_result"
    }
   ],
   "source": [
    "train_df.head()"
   ]
  },
  {
   "cell_type": "code",
   "execution_count": 12,
   "metadata": {},
   "outputs": [
    {
     "data": {
      "text/html": [
       "<div>\n",
       "<style scoped>\n",
       "    .dataframe tbody tr th:only-of-type {\n",
       "        vertical-align: middle;\n",
       "    }\n",
       "\n",
       "    .dataframe tbody tr th {\n",
       "        vertical-align: top;\n",
       "    }\n",
       "\n",
       "    .dataframe thead th {\n",
       "        text-align: right;\n",
       "    }\n",
       "</style>\n",
       "<table border=\"1\" class=\"dataframe\">\n",
       "  <thead>\n",
       "    <tr style=\"text-align: right;\">\n",
       "      <th></th>\n",
       "      <th>0</th>\n",
       "      <th>1</th>\n",
       "      <th>2</th>\n",
       "      <th>3</th>\n",
       "      <th>4</th>\n",
       "      <th>5</th>\n",
       "      <th>6</th>\n",
       "      <th>7</th>\n",
       "      <th>8</th>\n",
       "      <th>9</th>\n",
       "      <th>10</th>\n",
       "      <th>11</th>\n",
       "      <th>12</th>\n",
       "      <th>y</th>\n",
       "    </tr>\n",
       "  </thead>\n",
       "  <tbody>\n",
       "    <tr>\n",
       "      <th>0</th>\n",
       "      <td>18.08460</td>\n",
       "      <td>0.0</td>\n",
       "      <td>18.10</td>\n",
       "      <td>0.0</td>\n",
       "      <td>0.679</td>\n",
       "      <td>6.434</td>\n",
       "      <td>100.0</td>\n",
       "      <td>1.8347</td>\n",
       "      <td>24.0</td>\n",
       "      <td>666.0</td>\n",
       "      <td>20.2</td>\n",
       "      <td>27.25</td>\n",
       "      <td>29.05</td>\n",
       "      <td>7.2</td>\n",
       "    </tr>\n",
       "    <tr>\n",
       "      <th>1</th>\n",
       "      <td>0.12329</td>\n",
       "      <td>0.0</td>\n",
       "      <td>10.01</td>\n",
       "      <td>0.0</td>\n",
       "      <td>0.547</td>\n",
       "      <td>5.913</td>\n",
       "      <td>92.9</td>\n",
       "      <td>2.3534</td>\n",
       "      <td>6.0</td>\n",
       "      <td>432.0</td>\n",
       "      <td>17.8</td>\n",
       "      <td>394.95</td>\n",
       "      <td>16.21</td>\n",
       "      <td>18.8</td>\n",
       "    </tr>\n",
       "    <tr>\n",
       "      <th>2</th>\n",
       "      <td>0.05497</td>\n",
       "      <td>0.0</td>\n",
       "      <td>5.19</td>\n",
       "      <td>0.0</td>\n",
       "      <td>0.515</td>\n",
       "      <td>5.985</td>\n",
       "      <td>45.4</td>\n",
       "      <td>4.8122</td>\n",
       "      <td>5.0</td>\n",
       "      <td>224.0</td>\n",
       "      <td>20.2</td>\n",
       "      <td>396.90</td>\n",
       "      <td>9.74</td>\n",
       "      <td>19.0</td>\n",
       "    </tr>\n",
       "    <tr>\n",
       "      <th>3</th>\n",
       "      <td>1.27346</td>\n",
       "      <td>0.0</td>\n",
       "      <td>19.58</td>\n",
       "      <td>1.0</td>\n",
       "      <td>0.605</td>\n",
       "      <td>6.250</td>\n",
       "      <td>92.6</td>\n",
       "      <td>1.7984</td>\n",
       "      <td>5.0</td>\n",
       "      <td>403.0</td>\n",
       "      <td>14.7</td>\n",
       "      <td>338.92</td>\n",
       "      <td>5.50</td>\n",
       "      <td>27.0</td>\n",
       "    </tr>\n",
       "    <tr>\n",
       "      <th>4</th>\n",
       "      <td>0.07151</td>\n",
       "      <td>0.0</td>\n",
       "      <td>4.49</td>\n",
       "      <td>0.0</td>\n",
       "      <td>0.449</td>\n",
       "      <td>6.121</td>\n",
       "      <td>56.8</td>\n",
       "      <td>3.7476</td>\n",
       "      <td>3.0</td>\n",
       "      <td>247.0</td>\n",
       "      <td>18.5</td>\n",
       "      <td>395.15</td>\n",
       "      <td>8.44</td>\n",
       "      <td>22.2</td>\n",
       "    </tr>\n",
       "  </tbody>\n",
       "</table>\n",
       "</div>"
      ],
      "text/plain": [
       "          0    1      2    3      4      5      6       7     8      9    10  \\\n",
       "0  18.08460  0.0  18.10  0.0  0.679  6.434  100.0  1.8347  24.0  666.0  20.2   \n",
       "1   0.12329  0.0  10.01  0.0  0.547  5.913   92.9  2.3534   6.0  432.0  17.8   \n",
       "2   0.05497  0.0   5.19  0.0  0.515  5.985   45.4  4.8122   5.0  224.0  20.2   \n",
       "3   1.27346  0.0  19.58  1.0  0.605  6.250   92.6  1.7984   5.0  403.0  14.7   \n",
       "4   0.07151  0.0   4.49  0.0  0.449  6.121   56.8  3.7476   3.0  247.0  18.5   \n",
       "\n",
       "       11     12     y  \n",
       "0   27.25  29.05   7.2  \n",
       "1  394.95  16.21  18.8  \n",
       "2  396.90   9.74  19.0  \n",
       "3  338.92   5.50  27.0  \n",
       "4  395.15   8.44  22.2  "
      ]
     },
     "execution_count": 12,
     "metadata": {},
     "output_type": "execute_result"
    }
   ],
   "source": [
    "test_df.head()"
   ]
  },
  {
   "cell_type": "code",
   "execution_count": 13,
   "metadata": {},
   "outputs": [],
   "source": [
    "scaler = MinMaxScaler(feature_range=(0, 1))\n",
    "\n",
    "scaled_train = scaler.fit_transform(train_df)\n",
    "scaled_test = scaler.fit_transform(test_df)"
   ]
  },
  {
   "cell_type": "code",
   "execution_count": 17,
   "metadata": {},
   "outputs": [],
   "source": [
    "X_train = scaled_train[:,:13]\n",
    "Y_train = scaled_train[:,-1].reshape(-1,1)\n",
    "X_test = scaled_test[:,:13]\n",
    "Y_test = scaled_test[:,-1].reshape(-1,1)"
   ]
  },
  {
   "cell_type": "markdown",
   "metadata": {},
   "source": [
    "**Building Model**"
   ]
  },
  {
   "cell_type": "code",
   "execution_count": 23,
   "metadata": {},
   "outputs": [],
   "source": [
    "model = tf.keras.models.Sequential([\n",
    "    tf.keras.layers.Dense(111, activation=tf.nn.relu),\n",
    "    tf.keras.layers.Dropout(0.3),\n",
    "    tf.keras.layers.Dense(43, activation=tf.nn.relu),\n",
    "    tf.keras.layers.Dense(1)\n",
    "])"
   ]
  },
  {
   "cell_type": "code",
   "execution_count": 24,
   "metadata": {},
   "outputs": [],
   "source": [
    "#defining our own R2 metric for regression evaluation\n",
    "from tensorflow.keras import backend as K\n",
    "\n",
    "def det_coeff(y_true, y_pred):\n",
    "    u = K.sum(K.square(y_true - y_pred))\n",
    "    v = K.sum(K.square(y_true - K.mean(y_true)))\n",
    "    return K.ones_like(v) - (u / v)"
   ]
  },
  {
   "cell_type": "code",
   "execution_count": 25,
   "metadata": {},
   "outputs": [],
   "source": [
    "opt = tf.keras.optimizers.Adam()\n",
    "model.compile(optimizer=opt, loss='mean_absolute_error', metrics=[det_coeff])"
   ]
  },
  {
   "cell_type": "markdown",
   "metadata": {},
   "source": [
    "**Training**"
   ]
  },
  {
   "cell_type": "code",
   "execution_count": 34,
   "metadata": {},
   "outputs": [
    {
     "name": "stdout",
     "output_type": "stream",
     "text": [
      "Epoch 1/50\n",
      "26/26 [==============================] - 0s 1ms/step - loss: 0.0386 - det_coeff: 0.8986\n",
      "Epoch 2/50\n",
      "26/26 [==============================] - 0s 3ms/step - loss: 0.0378 - det_coeff: 0.8990\n",
      "Epoch 3/50\n",
      "26/26 [==============================] - 0s 2ms/step - loss: 0.0385 - det_coeff: 0.9021\n",
      "Epoch 4/50\n",
      "26/26 [==============================] - 0s 3ms/step - loss: 0.0402 - det_coeff: 0.8649\n",
      "Epoch 5/50\n",
      "26/26 [==============================] - 0s 3ms/step - loss: 0.0387 - det_coeff: 0.8976\n",
      "Epoch 6/50\n",
      "26/26 [==============================] - 0s 2ms/step - loss: 0.0367 - det_coeff: 0.9259\n",
      "Epoch 7/50\n",
      "26/26 [==============================] - 0s 1ms/step - loss: 0.0374 - det_coeff: 0.9233\n",
      "Epoch 8/50\n",
      "26/26 [==============================] - 0s 2ms/step - loss: 0.0345 - det_coeff: 0.9296\n",
      "Epoch 9/50\n",
      "26/26 [==============================] - 0s 3ms/step - loss: 0.0389 - det_coeff: 0.9077\n",
      "Epoch 10/50\n",
      "26/26 [==============================] - 0s 3ms/step - loss: 0.0387 - det_coeff: 0.9084\n",
      "Epoch 11/50\n",
      "26/26 [==============================] - 0s 3ms/step - loss: 0.0378 - det_coeff: 0.8975\n",
      "Epoch 12/50\n",
      "26/26 [==============================] - 0s 3ms/step - loss: 0.0390 - det_coeff: 0.9112\n",
      "Epoch 13/50\n",
      "26/26 [==============================] - 0s 2ms/step - loss: 0.0390 - det_coeff: 0.9110\n",
      "Epoch 14/50\n",
      "26/26 [==============================] - 0s 3ms/step - loss: 0.0359 - det_coeff: 0.9041\n",
      "Epoch 15/50\n",
      "26/26 [==============================] - 0s 2ms/step - loss: 0.0371 - det_coeff: 0.9128\n",
      "Epoch 16/50\n",
      "26/26 [==============================] - 0s 3ms/step - loss: 0.0378 - det_coeff: 0.9158\n",
      "Epoch 17/50\n",
      "26/26 [==============================] - 0s 2ms/step - loss: 0.0377 - det_coeff: 0.8951\n",
      "Epoch 18/50\n",
      "26/26 [==============================] - 0s 3ms/step - loss: 0.0374 - det_coeff: 0.9096\n",
      "Epoch 19/50\n",
      "26/26 [==============================] - 0s 3ms/step - loss: 0.0384 - det_coeff: 0.9091\n",
      "Epoch 20/50\n",
      "26/26 [==============================] - 0s 3ms/step - loss: 0.0362 - det_coeff: 0.8970\n",
      "Epoch 21/50\n",
      "26/26 [==============================] - 0s 3ms/step - loss: 0.0363 - det_coeff: 0.9068\n",
      "Epoch 22/50\n",
      "26/26 [==============================] - 0s 2ms/step - loss: 0.0384 - det_coeff: 0.9094\n",
      "Epoch 23/50\n",
      "26/26 [==============================] - 0s 2ms/step - loss: 0.0372 - det_coeff: 0.9113\n",
      "Epoch 24/50\n",
      "26/26 [==============================] - 0s 1ms/step - loss: 0.0354 - det_coeff: 0.9283\n",
      "Epoch 25/50\n",
      "26/26 [==============================] - 0s 3ms/step - loss: 0.0364 - det_coeff: 0.9219\n",
      "Epoch 26/50\n",
      "26/26 [==============================] - 0s 3ms/step - loss: 0.0394 - det_coeff: 0.8930\n",
      "Epoch 27/50\n",
      "26/26 [==============================] - 0s 3ms/step - loss: 0.0365 - det_coeff: 0.9029\n",
      "Epoch 28/50\n",
      "26/26 [==============================] - 0s 3ms/step - loss: 0.0379 - det_coeff: 0.9070\n",
      "Epoch 29/50\n",
      "26/26 [==============================] - 0s 3ms/step - loss: 0.0397 - det_coeff: 0.8852\n",
      "Epoch 30/50\n",
      "26/26 [==============================] - 0s 3ms/step - loss: 0.0367 - det_coeff: 0.9108\n",
      "Epoch 31/50\n",
      "26/26 [==============================] - 0s 3ms/step - loss: 0.0376 - det_coeff: 0.8094\n",
      "Epoch 32/50\n",
      "26/26 [==============================] - 0s 3ms/step - loss: 0.0377 - det_coeff: 0.9114\n",
      "Epoch 33/50\n",
      "26/26 [==============================] - 0s 3ms/step - loss: 0.0378 - det_coeff: 0.9137\n",
      "Epoch 34/50\n",
      "26/26 [==============================] - 0s 3ms/step - loss: 0.0383 - det_coeff: 0.8842\n",
      "Epoch 35/50\n",
      "26/26 [==============================] - 0s 3ms/step - loss: 0.0368 - det_coeff: 0.9155\n",
      "Epoch 36/50\n",
      "26/26 [==============================] - 0s 3ms/step - loss: 0.0364 - det_coeff: 0.9223\n",
      "Epoch 37/50\n",
      "26/26 [==============================] - 0s 2ms/step - loss: 0.0372 - det_coeff: 0.9235\n",
      "Epoch 38/50\n",
      "26/26 [==============================] - 0s 3ms/step - loss: 0.0359 - det_coeff: 0.9260\n",
      "Epoch 39/50\n",
      "26/26 [==============================] - 0s 3ms/step - loss: 0.0350 - det_coeff: 0.9178\n",
      "Epoch 40/50\n",
      "26/26 [==============================] - 0s 2ms/step - loss: 0.0370 - det_coeff: 0.9228\n",
      "Epoch 41/50\n",
      "26/26 [==============================] - 0s 3ms/step - loss: 0.0377 - det_coeff: 0.8930\n",
      "Epoch 42/50\n",
      "26/26 [==============================] - 0s 2ms/step - loss: 0.0383 - det_coeff: 0.9053\n",
      "Epoch 43/50\n",
      "26/26 [==============================] - 0s 3ms/step - loss: 0.0359 - det_coeff: 0.9126\n",
      "Epoch 44/50\n",
      "26/26 [==============================] - 0s 2ms/step - loss: 0.0358 - det_coeff: 0.9165\n",
      "Epoch 45/50\n",
      "26/26 [==============================] - 0s 3ms/step - loss: 0.0376 - det_coeff: 0.9094\n",
      "Epoch 46/50\n",
      "26/26 [==============================] - 0s 1ms/step - loss: 0.0354 - det_coeff: 0.9211\n",
      "Epoch 47/50\n",
      "26/26 [==============================] - 0s 3ms/step - loss: 0.0404 - det_coeff: 0.9036\n",
      "Epoch 48/50\n",
      "26/26 [==============================] - 0s 2ms/step - loss: 0.0353 - det_coeff: 0.9187\n",
      "Epoch 49/50\n",
      "26/26 [==============================] - 0s 1ms/step - loss: 0.0363 - det_coeff: 0.9103\n",
      "Epoch 50/50\n",
      "26/26 [==============================] - 0s 2ms/step - loss: 0.0380 - det_coeff: 0.9180\n"
     ]
    },
    {
     "data": {
      "text/plain": [
       "<tensorflow.python.keras.callbacks.History at 0x7f8ac8111670>"
      ]
     },
     "execution_count": 34,
     "metadata": {},
     "output_type": "execute_result"
    }
   ],
   "source": [
    "model.fit(X_train, Y_train, epochs=50, batch_size=16)"
   ]
  },
  {
   "cell_type": "markdown",
   "metadata": {},
   "source": [
    "**Evaluation**"
   ]
  },
  {
   "cell_type": "code",
   "execution_count": 35,
   "metadata": {},
   "outputs": [
    {
     "name": "stdout",
     "output_type": "stream",
     "text": [
      "4/4 [==============================] - 0s 1ms/step - loss: 0.0926 - det_coeff: 0.5606\n"
     ]
    },
    {
     "data": {
      "text/plain": [
       "[0.09256098419427872, 0.560624897480011]"
      ]
     },
     "execution_count": 35,
     "metadata": {},
     "output_type": "execute_result"
    }
   ],
   "source": [
    "model.evaluate(X_test, Y_test)"
   ]
  },
  {
   "cell_type": "markdown",
   "metadata": {},
   "source": [
    "**Predictions**"
   ]
  },
  {
   "cell_type": "code",
   "execution_count": 36,
   "metadata": {},
   "outputs": [],
   "source": [
    "predictions = model.predict(X_test)"
   ]
  },
  {
   "cell_type": "code",
   "execution_count": 37,
   "metadata": {},
   "outputs": [],
   "source": [
    "y_0 = predictions\n",
    "y_0 -= scaler.min_[13]\n",
    "y_0 /= scaler.scale_[13]\n",
    "\n",
    "y_pred = y_0\n",
    "y_actual = y_test.reshape(-1,1)"
   ]
  },
  {
   "cell_type": "code",
   "execution_count": 38,
   "metadata": {},
   "outputs": [],
   "source": [
    "e = y_pred - y_actual"
   ]
  },
  {
   "cell_type": "code",
   "execution_count": 39,
   "metadata": {},
   "outputs": [],
   "source": [
    "e = e**2"
   ]
  },
  {
   "cell_type": "code",
   "execution_count": 40,
   "metadata": {},
   "outputs": [],
   "source": [
    "rms = tf.sqrt(e.mean())"
   ]
  },
  {
   "cell_type": "code",
   "execution_count": 41,
   "metadata": {},
   "outputs": [],
   "source": [
    "error = rms/e.mean()"
   ]
  },
  {
   "cell_type": "code",
   "execution_count": 42,
   "metadata": {},
   "outputs": [
    {
     "data": {
      "text/plain": [
       "0.19040456306857148"
      ]
     },
     "execution_count": 42,
     "metadata": {},
     "output_type": "execute_result"
    }
   ],
   "source": [
    "error.numpy()"
   ]
  },
  {
   "cell_type": "code",
   "execution_count": null,
   "metadata": {},
   "outputs": [],
   "source": []
  }
 ],
 "metadata": {
  "kernelspec": {
   "display_name": "Python 3",
   "language": "python",
   "name": "python3"
  },
  "language_info": {
   "codemirror_mode": {
    "name": "ipython",
    "version": 3
   },
   "file_extension": ".py",
   "mimetype": "text/x-python",
   "name": "python",
   "nbconvert_exporter": "python",
   "pygments_lexer": "ipython3",
   "version": "3.8.5"
  }
 },
 "nbformat": 4,
 "nbformat_minor": 4
}
